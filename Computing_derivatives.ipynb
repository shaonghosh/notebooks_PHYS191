{
 "cells": [
  {
   "cell_type": "markdown",
   "metadata": {},
   "source": [
    "## Differentiation"
   ]
  },
  {
   "cell_type": "markdown",
   "metadata": {},
   "source": [
    "### The derivative of a function $f(x)$ w.r.t $x$ is defined as follows\n",
    "### $f'(x) = \\frac{df(x)}{dx} = \\lim_{\\Delta x\\to 0}\\frac{f(x + \\Delta x) - f(x)}{\\Delta x}$\n",
    "### This involves evaluating the function $f$ at two points on the $x$-axis, namely at $x$ and $x + \\Delta x$. Then divide the difference of these two values with the distance between the two points $(\\Delta x)$. In this notebook, we take a look at some of the simple cases and see if indeed this matches with the derivatives. "
   ]
  },
  {
   "cell_type": "markdown",
   "metadata": {},
   "source": [
    "### First lets take a look at a simple function $f(x) - x^2$. We know that the derivative of this function is simply $2x$. But lets use the formula above (which is also called first-principle) to evaluate the derivative and then see if the result matches with the known value"
   ]
  },
  {
   "cell_type": "code",
   "execution_count": 1,
   "metadata": {},
   "outputs": [],
   "source": [
    "### First let us create a grid of values of x over which we will compute the derivative.\n",
    "x_values = range(0, 10) # the range-function creates range of integers, in this case all integers between 1 & 10\n",
    "\n"
   ]
  },
  {
   "cell_type": "code",
   "execution_count": 2,
   "metadata": {},
   "outputs": [
    {
     "name": "stdout",
     "output_type": "stream",
     "text": [
      "0\n",
      "1\n",
      "2\n",
      "3\n",
      "4\n",
      "5\n",
      "6\n",
      "7\n",
      "8\n",
      "9\n"
     ]
    }
   ],
   "source": [
    "## We can then create the required values by running a loop as shown below\n",
    "for x in x_values:\n",
    "    print(x)"
   ]
  },
  {
   "cell_type": "markdown",
   "metadata": {},
   "source": [
    "### Now we will be computing the derivative at each point on this grid. Let us define the function $f(x)$ in the code then."
   ]
  },
  {
   "cell_type": "code",
   "execution_count": 3,
   "metadata": {},
   "outputs": [],
   "source": [
    "def f(x):\n",
    "    # This function is taking a value of x and return its square.\n",
    "    return x**2"
   ]
  },
  {
   "cell_type": "code",
   "execution_count": 4,
   "metadata": {},
   "outputs": [
    {
     "data": {
      "text/plain": [
       "25"
      ]
     },
     "execution_count": 4,
     "metadata": {},
     "output_type": "execute_result"
    }
   ],
   "source": [
    "## Lets test this function. Let's evaluate the function f at x=5. It should give 25.\n",
    "f(5)"
   ]
  },
  {
   "cell_type": "markdown",
   "metadata": {},
   "source": [
    "### Lets us now evaluate the function on our grid of x-values"
   ]
  },
  {
   "cell_type": "code",
   "execution_count": 5,
   "metadata": {},
   "outputs": [
    {
     "name": "stdout",
     "output_type": "stream",
     "text": [
      "Value of f(0) = 0\n",
      "Value of f(1) = 1\n",
      "Value of f(2) = 4\n",
      "Value of f(3) = 9\n",
      "Value of f(4) = 16\n",
      "Value of f(5) = 25\n",
      "Value of f(6) = 36\n",
      "Value of f(7) = 49\n",
      "Value of f(8) = 64\n",
      "Value of f(9) = 81\n"
     ]
    }
   ],
   "source": [
    "# We are going to now run the loop over the x_values, but this time compute the value of f(x) at each point\n",
    "for x in x_values:\n",
    "    y = f(x)\n",
    "    print(\"Value of f({}) = {}\".format(x, y))"
   ]
  },
  {
   "cell_type": "markdown",
   "metadata": {},
   "source": [
    "### Now tht we have the function, we can compute the derivative using first-principle, i.e., $f'(x) = \\frac{df(x)}{dx} = \\lim_{\\Delta x\\to 0}\\frac{f(x + \\Delta x) - f(x)}{\\Delta x}$. But before we do that we will need a a value of $\\Delta x$. What would be a good value? Smaller the better. Lets us start with something which is constant, let's say $0.01$"
   ]
  },
  {
   "cell_type": "code",
   "execution_count": 6,
   "metadata": {},
   "outputs": [
    {
     "name": "stdout",
     "output_type": "stream",
     "text": [
      "Value of f'(x) at 0 = 0.01\n",
      "Value of f'(x) at 1 = 2.0100000000000007\n",
      "Value of f'(x) at 2 = 4.009999999999891\n",
      "Value of f'(x) at 3 = 6.009999999999849\n",
      "Value of f'(x) at 4 = 8.009999999999806\n",
      "Value of f'(x) at 5 = 10.009999999999764\n",
      "Value of f'(x) at 6 = 12.010000000000076\n",
      "Value of f'(x) at 7 = 14.009999999999678\n",
      "Value of f'(x) at 8 = 16.00999999999999\n",
      "Value of f'(x) at 9 = 18.009999999999593\n"
     ]
    }
   ],
   "source": [
    "delta_x = 0.01\n",
    "# We are are again going to loop over all the values. \n",
    "# But this time we will not just compute f(x), but also f(x + delta_x)\n",
    "for x in x_values:\n",
    "    df = f(x + delta_x) - f(x) # Computing the numerator of the above equation\n",
    "    df_dx = df/delta_x # Dividing by the quantity in the denominator\n",
    "    print(\"Value of f'(x) at {} = {}\".format(x, df_dx))"
   ]
  },
  {
   "cell_type": "markdown",
   "metadata": {},
   "source": [
    "### Notice that this is the value of the derivative of $x^2$ as computed numericaly. We of course know analytically what this value should be, from $\\frac{d}{dx}(x^2) = 2x$. Lets put those two numbers side-by-side."
   ]
  },
  {
   "cell_type": "code",
   "execution_count": 7,
   "metadata": {},
   "outputs": [
    {
     "name": "stdout",
     "output_type": "stream",
     "text": [
      "Known value of f'(x) at 0 = 0\n",
      "Known value of f'(x) at 1 = 2\n",
      "Known value of f'(x) at 2 = 4\n",
      "Known value of f'(x) at 3 = 6\n",
      "Known value of f'(x) at 4 = 8\n",
      "Known value of f'(x) at 5 = 10\n",
      "Known value of f'(x) at 6 = 12\n",
      "Known value of f'(x) at 7 = 14\n",
      "Known value of f'(x) at 8 = 16\n",
      "Known value of f'(x) at 9 = 18\n"
     ]
    }
   ],
   "source": [
    "for x in x_values:\n",
    "    print(\"Known value of f'(x) at {} = {}\".format(x, 2*x))"
   ]
  },
  {
   "cell_type": "markdown",
   "metadata": {},
   "source": [
    "### We see that the numbers are pretty close. In fact the numers will much closer, if we choose an even smaller value of $\\Delta x$. Let us now write a complete code that will do this computation."
   ]
  },
  {
   "cell_type": "code",
   "execution_count": 8,
   "metadata": {},
   "outputs": [],
   "source": [
    "def f(x):\n",
    "    # This function is taking a value of x and return its square.\n",
    "    return x**2\n",
    "\n",
    "def deriv(x):\n",
    "    # This is the derivative function that we know analytically.\n",
    "    return 2*x\n",
    "\n",
    "def compute_deriv(x, dx):\n",
    "    # This function computes the derivative at a given point\n",
    "    df = f(x + dx) - f(x)\n",
    "    df_dx = df/dx\n",
    "    return df_dx"
   ]
  },
  {
   "cell_type": "code",
   "execution_count": 9,
   "metadata": {},
   "outputs": [
    {
     "name": "stdout",
     "output_type": "stream",
     "text": [
      "Numerically: f'(x) at 0 = 0.001: Analytically f'(x) at 0 = 0\n",
      "Numerically: f'(x) at 1 = 2.0009999999996975: Analytically f'(x) at 1 = 2\n",
      "Numerically: f'(x) at 2 = 4.000999999999699: Analytically f'(x) at 2 = 4\n",
      "Numerically: f'(x) at 3 = 6.000999999999479: Analytically f'(x) at 3 = 6\n",
      "Numerically: f'(x) at 4 = 8.0010000000037: Analytically f'(x) at 4 = 8\n",
      "Numerically: f'(x) at 5 = 10.001000000002591: Analytically f'(x) at 5 = 10\n",
      "Numerically: f'(x) at 6 = 12.001000000005035: Analytically f'(x) at 6 = 12\n",
      "Numerically: f'(x) at 7 = 14.00100000000748: Analytically f'(x) at 7 = 14\n",
      "Numerically: f'(x) at 8 = 16.000999999988608: Analytically f'(x) at 8 = 16\n",
      "Numerically: f'(x) at 9 = 18.000999999983947: Analytically f'(x) at 9 = 18\n"
     ]
    }
   ],
   "source": [
    "delta_x = 0.001 ## Change this to see what effect you have in the derivative\n",
    "for x in x_values:\n",
    "    df_dx = compute_deriv(x, delta_x)\n",
    "    print(\"Numerically: f'(x) at {} = {}: Analytically f'(x) at {} = {}\".format(x, df_dx, x, deriv(x)))"
   ]
  },
  {
   "cell_type": "markdown",
   "metadata": {},
   "source": [
    "### You can now play around with the value of `delta_x` above "
   ]
  }
 ],
 "metadata": {
  "kernelspec": {
   "display_name": "Python 3",
   "language": "python",
   "name": "python3"
  },
  "language_info": {
   "codemirror_mode": {
    "name": "ipython",
    "version": 3
   },
   "file_extension": ".py",
   "mimetype": "text/x-python",
   "name": "python",
   "nbconvert_exporter": "python",
   "pygments_lexer": "ipython3",
   "version": "3.7.8"
  }
 },
 "nbformat": 4,
 "nbformat_minor": 4
}
