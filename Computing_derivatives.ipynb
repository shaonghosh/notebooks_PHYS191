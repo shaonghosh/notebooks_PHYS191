{
 "cells": [
  {
   "cell_type": "markdown",
   "metadata": {},
   "source": [
    "# Differentiation"
   ]
  },
  {
   "cell_type": "markdown",
   "metadata": {},
   "source": [
    "### The derivative of a function $f(x)$ w.r.t $x$ is defined as follows\n",
    "### $f'(x) = \\frac{df(x)}{dx} = \\lim_{\\Delta x\\to 0}\\frac{f(x + \\Delta x) - f(x)}{\\Delta x}$\n",
    "### This involves evaluating the function $f$ at two points on the $x$-axis, namely at $x$ and $x + \\Delta x$. Then divide the difference of these two values with the distance between the two points $(\\Delta x)$. In this notebook, we take a look at some of the simple cases and see if indeed this matches with the derivatives. "
   ]
  },
  {
   "cell_type": "markdown",
   "metadata": {},
   "source": [
    "### First lets take a look at a simple function $f(x) = x^2$. We know that the derivative of this function is simply $2x$. But lets use the formula above (which is also called first-principle) to evaluate the derivative and then see if the result matches with the known value"
   ]
  },
  {
   "cell_type": "code",
   "execution_count": null,
   "metadata": {},
   "outputs": [],
   "source": [
    "### First let us create a grid of values of x over which we will compute the derivative.\n",
    "x_values = range(0, 10) # the range-function creates range of integers, in this case all integers between 1 & 10\n",
    "\n"
   ]
  },
  {
   "cell_type": "code",
   "execution_count": null,
   "metadata": {},
   "outputs": [],
   "source": [
    "## We can then create the required values by running a loop as shown below\n",
    "for x in x_values:\n",
    "    print(x)"
   ]
  },
  {
   "cell_type": "markdown",
   "metadata": {},
   "source": [
    "### Now we will be computing the derivative at each point on this grid. Let us define the function $f(x)$ in the code then."
   ]
  },
  {
   "cell_type": "code",
   "execution_count": null,
   "metadata": {},
   "outputs": [],
   "source": [
    "def f(x):\n",
    "    # This function is taking a value of x and return its square.\n",
    "    return x**2"
   ]
  },
  {
   "cell_type": "code",
   "execution_count": null,
   "metadata": {},
   "outputs": [],
   "source": [
    "## Lets test this function. Let's evaluate the function f at x=5. It should give 25.\n",
    "f(5)"
   ]
  },
  {
   "cell_type": "markdown",
   "metadata": {},
   "source": [
    "### Lets us now evaluate the function on our grid of x-values"
   ]
  },
  {
   "cell_type": "code",
   "execution_count": null,
   "metadata": {},
   "outputs": [],
   "source": [
    "# We are going to now run the loop over the x_values, but this time compute the value of f(x) at each point\n",
    "for x in x_values:\n",
    "    y = f(x)\n",
    "    print(\"Value of f({}) = {}\".format(x, y))"
   ]
  },
  {
   "cell_type": "markdown",
   "metadata": {},
   "source": [
    "### Now tht we have the function, we can compute the derivative using first-principle, i.e., $f'(x) = \\frac{df(x)}{dx} = \\lim_{\\Delta x\\to 0}\\frac{f(x + \\Delta x) - f(x)}{\\Delta x}$. But before we do that we will need a a value of $\\Delta x$. What would be a good value? Smaller the better. Lets us start with something which is constant, let's say $0.01$"
   ]
  },
  {
   "cell_type": "code",
   "execution_count": null,
   "metadata": {},
   "outputs": [],
   "source": [
    "delta_x = 0.01\n",
    "# We are are again going to loop over all the values. \n",
    "# But this time we will not just compute f(x), but also f(x + delta_x)\n",
    "for x in x_values:\n",
    "    df = f(x + delta_x) - f(x) # Computing the numerator of the above equation\n",
    "    df_dx = df/delta_x # Dividing by the quantity in the denominator\n",
    "    print(\"Value of f'(x) at {} = {}\".format(x, df_dx))"
   ]
  },
  {
   "cell_type": "markdown",
   "metadata": {},
   "source": [
    "### Notice that this is the value of the derivative of $x^2$ as computed numericaly. We of course know analytically what this value should be, from $\\frac{d}{dx}(x^2) = 2x$. Lets put those two numbers side-by-side."
   ]
  },
  {
   "cell_type": "code",
   "execution_count": null,
   "metadata": {},
   "outputs": [],
   "source": [
    "for x in x_values:\n",
    "    print(\"Known value of f'(x) at {} = {}\".format(x, 2*x))"
   ]
  },
  {
   "cell_type": "markdown",
   "metadata": {},
   "source": [
    "### We see that the numbers are pretty close. In fact the numers will much closer, if we choose an even smaller value of $\\Delta x$. Let us now write a complete code that will do this computation."
   ]
  },
  {
   "cell_type": "code",
   "execution_count": null,
   "metadata": {},
   "outputs": [],
   "source": [
    "def f(x):\n",
    "    # This function is taking a value of x and return its square.\n",
    "    return x**2\n",
    "\n",
    "def deriv(x):\n",
    "    # This is the derivative function that we know analytically.\n",
    "    return 2*x\n",
    "\n",
    "def compute_deriv(x, dx):\n",
    "    # This function computes the derivative at a given point\n",
    "    df = f(x + dx) - f(x)\n",
    "    df_dx = df/dx\n",
    "    return df_dx"
   ]
  },
  {
   "cell_type": "code",
   "execution_count": null,
   "metadata": {},
   "outputs": [],
   "source": [
    "delta_x = 0.001 ## Change this to see what effect you have in the derivative\n",
    "for x in x_values:\n",
    "    df_dx = compute_deriv(x, delta_x)\n",
    "    print(\"Numerically: f'(x) at {} = {}: Analytically f'(x) at {} = {}\".format(x, df_dx, x, deriv(x)))"
   ]
  },
  {
   "cell_type": "markdown",
   "metadata": {},
   "source": [
    "### You can now play around with the value of `delta_x` above and check how the derivative is affected."
   ]
  },
  {
   "cell_type": "markdown",
   "metadata": {},
   "source": [
    "### Now let's do some visualization, to get a deeper understanding. We are going to numerically compute the derivative for three different values of `delta_x`, $1.0, 0.5, 0.05$. We will plot these numerically computed derivatives vs the value of $x$ and compare them with the analytically known value of the derivative, i.e., $2x$"
   ]
  },
  {
   "cell_type": "code",
   "execution_count": null,
   "metadata": {},
   "outputs": [],
   "source": [
    "df_dx_1 = []\n",
    "df_dx_2 = []\n",
    "df_dx_3 = []\n",
    "analytical = []\n",
    "for x in x_values:\n",
    "    # We will append to the above lists the values of the derivatives we computing below.\n",
    "    df_dx_1.append(compute_deriv(x, 1)) # for the first case\n",
    "    df_dx_2.append(compute_deriv(x, 0.5)) # for the second case\n",
    "    df_dx_3.append(compute_deriv(x, 0.05)) # for the third case\n",
    "    analytical.append(2*x)\n"
   ]
  },
  {
   "cell_type": "code",
   "execution_count": null,
   "metadata": {},
   "outputs": [],
   "source": [
    "import pylab as pl ## Plotting module needs to be imported, since it is not available by default in Python\n",
    "pl.rcParams.update({'font.size': 18}) # Sets font-size of the plot\n",
    "pl.figure(figsize=(12,10)) # Sets size of the figure\n",
    "pl.plot(x_values, analytical, '*-', label=\"Analytical result\") # Plots the analytical expression\n",
    "pl.plot(x_values, df_dx_1, '*--', label=\"$\\\\Delta x = 1.0$\", alpha=0.4) # Plots the largest delta_x\n",
    "pl.plot(x_values, df_dx_2, '*--', label=\"$\\\\Delta x = 0.5$\", alpha=0.4) # Plots the intermediate delta_x\n",
    "pl.plot(x_values, df_dx_3, '*--', label=\"$\\\\Delta x = 0.05$\", alpha=0.4) # # Plots the smallest delta_x\n",
    "pl.xlabel('Value of $x$') # Set the label on the x-axis\n",
    "pl.ylabel('Value of $\\\\frac{df(x)}{dx}$') # Set the label on the y-axis\n",
    "pl.legend() # Set the legend\n",
    "pl.show() # display the plot (not required for the notebook... but good to know for general purpose)"
   ]
  },
  {
   "cell_type": "markdown",
   "metadata": {},
   "source": [
    "### What do you see above? For which value of `delta_x` do you find the numerical derivative matches best with the analytical results? For which one is it the worst. Why do you think this happens?"
   ]
  },
  {
   "cell_type": "markdown",
   "metadata": {},
   "source": [
    "### Now that we have seen how this can be done, write a program to do the same computation (basically repeat everything done above) for $f(x) = x^3$. The code skeleton is provides below:"
   ]
  },
  {
   "cell_type": "code",
   "execution_count": null,
   "metadata": {},
   "outputs": [],
   "source": [
    "def f_cube(x):\n",
    "    # This function is taking a value of x and return its cube.\n",
    "    return \n",
    "\n",
    "def deriv_cube(x):\n",
    "    # This is the derivative function that we know analytically for x cube.\n",
    "    return \n",
    "\n",
    "def compute_deriv(x, dx):\n",
    "    # This function computes the derivative at a given point\n",
    "    df_cube = f_cube(x + dx) - f_cube(x)\n",
    "    df_dx = df_cube/dx\n",
    "    return df_cube_dx"
   ]
  },
  {
   "cell_type": "markdown",
   "metadata": {},
   "source": [
    "### Once you have the functions ready, then repeat the steps in cell 9 onwards for this new function `f_cube`"
   ]
  },
  {
   "cell_type": "code",
   "execution_count": null,
   "metadata": {},
   "outputs": [],
   "source": []
  }
 ],
 "metadata": {
  "kernelspec": {
   "display_name": "Python 3",
   "language": "python",
   "name": "python3"
  },
  "language_info": {
   "codemirror_mode": {
    "name": "ipython",
    "version": 3
   },
   "file_extension": ".py",
   "mimetype": "text/x-python",
   "name": "python",
   "nbconvert_exporter": "python",
   "pygments_lexer": "ipython3",
   "version": "3.7.8"
  }
 },
 "nbformat": 4,
 "nbformat_minor": 4
}
