{
 "cells": [
  {
   "cell_type": "markdown",
   "metadata": {},
   "source": [
    "## Differentiation"
   ]
  },
  {
   "cell_type": "markdown",
   "metadata": {},
   "source": [
    "### The derivative of a function $f(x)$ w.r.t $x$ is defined as follows\n",
    "### $f'(x) = \\frac{df(x)}{dx} = \\lim_{\\Delta x\\to 0}\\frac{f(x + \\Delta x) - f(x)}{\\Delta x}$\n",
    "### This involves evaluating the function $f$ at two points on the $x$-axis, namely at $x$ and $x + \\Delta x$. Then divide the difference of these two values with the distance between the two points $(\\Delta x)$. In this notebook, we take a look at some of the simple cases and see if indeed this matches with the derivatives. "
   ]
  },
  {
   "cell_type": "markdown",
   "metadata": {},
   "source": [
    "### First lets take a look at a simple function $f(x) - x^2$. We know that the derivative of this function is simply $2x$. But lets use the formula above (which is also called first-principle) to evaluate the derivative and then see if the result matches with the known value"
   ]
  },
  {
   "cell_type": "code",
   "execution_count": null,
   "metadata": {},
   "outputs": [],
   "source": [
    "### First let us create a grid of values of x over which we will compute the derivative.\n",
    "x_values = range(0, 10) # the range-function creates range of integers, in this case all integers between 1 & 10\n",
    "\n"
   ]
  },
  {
   "cell_type": "code",
   "execution_count": null,
   "metadata": {},
   "outputs": [],
   "source": [
    "## We can then create the required values by running a loop as shown below\n",
    "for x in x_values:\n",
    "    print(x)"
   ]
  },
  {
   "cell_type": "markdown",
   "metadata": {},
   "source": [
    "### Now we will be computing the derivative at each point on this grid. Let us define the function $f(x)$ in the code then."
   ]
  },
  {
   "cell_type": "code",
   "execution_count": null,
   "metadata": {},
   "outputs": [],
   "source": [
    "def f(x):\n",
    "    # This function is taking a value of x and return its square.\n",
    "    return x**2"
   ]
  },
  {
   "cell_type": "code",
   "execution_count": null,
   "metadata": {},
   "outputs": [],
   "source": [
    "## Lets test this function. Let's evaluate the function f at x=5. It should give 25.\n",
    "f(5)"
   ]
  },
  {
   "cell_type": "markdown",
   "metadata": {},
   "source": [
    "### Lets us now evaluate the function on our grid of x-values"
   ]
  },
  {
   "cell_type": "code",
   "execution_count": null,
   "metadata": {},
   "outputs": [],
   "source": [
    "# We are going to now run the loop over the x_values, but this time compute the value of f(x) at each point\n",
    "for x in x_values:\n",
    "    y = f(x)\n",
    "    print(\"Value of f({}) = {}\".format(x, y))"
   ]
  },
  {
   "cell_type": "markdown",
   "metadata": {},
   "source": [
    "### Now tht we have the function, we can compute the derivative using first-principle, i.e., $f'(x) = \\frac{df(x)}{dx} = \\lim_{\\Delta x\\to 0}\\frac{f(x + \\Delta x) - f(x)}{\\Delta x}$. But before we do that we will need a a value of $\\Delta x$. What would be a good value? Smaller the better. Lets us start with something which is constant, let's say $0.01$"
   ]
  },
  {
   "cell_type": "code",
   "execution_count": null,
   "metadata": {},
   "outputs": [],
   "source": [
    "delta_x = 0.01\n",
    "# We are are again going to loop over all the values. \n",
    "# But this time we will not just compute f(x), but also f(x + delta_x)\n",
    "for x in x_values:\n",
    "    df = f(x + delta_x) - f(x) # Computing the numerator of the above equation\n",
    "    df_dx = df/delta_x # Dividing by the quantity in the denominator\n",
    "    print(\"Value of f'(x) at {} = {}\".format(x, df_dx))"
   ]
  },
  {
   "cell_type": "markdown",
   "metadata": {},
   "source": [
    "### Notice that this is the value of the derivative of $x^2$ as computed numericaly. We of course know analytically what this value should be, from $\\frac{d}{dx}(x^2) = 2x$. Lets put those two numbers side-by-side."
   ]
  },
  {
   "cell_type": "code",
   "execution_count": null,
   "metadata": {},
   "outputs": [],
   "source": [
    "for x in x_values:\n",
    "    print(\"Known value of f'(x) at {} = {}\".format(x, 2*x))"
   ]
  },
  {
   "cell_type": "markdown",
   "metadata": {},
   "source": [
    "### We see that the numbers are pretty close. In fact the numers will much closer, if we choose an even smaller value of $\\Delta x$. Let us now write a complete code that will do this computation."
   ]
  },
  {
   "cell_type": "code",
   "execution_count": null,
   "metadata": {},
   "outputs": [],
   "source": [
    "def f(x):\n",
    "    # This function is taking a value of x and return its square.\n",
    "    return x**2\n",
    "\n",
    "def deriv(x):\n",
    "    # This is the derivative function that we know analytically.\n",
    "    return 2*x\n",
    "\n",
    "def compute_deriv(x, dx):\n",
    "    # This function computes the derivative at a given point\n",
    "    df = f(x + dx) - f(x)\n",
    "    df_dx = df/dx\n",
    "    return df_dx"
   ]
  },
  {
   "cell_type": "code",
   "execution_count": null,
   "metadata": {},
   "outputs": [],
   "source": [
    "delta_x = 0.001 ## Change this to see what effect you have in the derivative\n",
    "for x in x_values:\n",
    "    df_dx = compute_deriv(x, delta_x)\n",
    "    print(\"Numerically: f'(x) at {} = {}: Analytically f'(x) at {} = {}\".format(x, df_dx, x, deriv(x)))"
   ]
  },
  {
   "cell_type": "markdown",
   "metadata": {},
   "source": [
    "### You can now play around with the value of `delta_x` above and check how the derivative is affected."
   ]
  },
  {
   "cell_type": "code",
   "execution_count": null,
   "metadata": {},
   "outputs": [],
   "source": []
  }
 ],
 "metadata": {
  "kernelspec": {
   "display_name": "Python 3",
   "language": "python",
   "name": "python3"
  },
  "language_info": {
   "codemirror_mode": {
    "name": "ipython",
    "version": 3
   },
   "file_extension": ".py",
   "mimetype": "text/x-python",
   "name": "python",
   "nbconvert_exporter": "python",
   "pygments_lexer": "ipython3",
   "version": "3.7.8"
  }
 },
 "nbformat": 4,
 "nbformat_minor": 4
}
